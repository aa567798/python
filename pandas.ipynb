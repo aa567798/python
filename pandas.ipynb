{
 "cells": [
  {
   "cell_type": "code",
   "execution_count": 40,
   "metadata": {
    "collapsed": true
   },
   "outputs": [],
   "source": [
    "import pandas\n",
    "\n",
    "series = pandas.Series([140, 160, 180], index=['王小雪', '梁大釗', '陳運運'])\n",
    "df = pandas.DataFrame({\n",
    "        '身高': series,\n",
    "        '學校': '台灣科技大學'\n",
    "    })"
   ]
  },
  {
   "cell_type": "code",
   "execution_count": 42,
   "metadata": {
    "collapsed": false
   },
   "outputs": [
    {
     "data": {
      "text/plain": [
       "王小雪    140\n",
       "梁大釗    160\n",
       "陳運運    180\n",
       "dtype: int64"
      ]
     },
     "execution_count": 42,
     "metadata": {},
     "output_type": "execute_result"
    }
   ],
   "source": [
    "series"
   ]
  },
  {
   "cell_type": "code",
   "execution_count": 43,
   "metadata": {
    "collapsed": false
   },
   "outputs": [
    {
     "data": {
      "text/html": [
       "<div>\n",
       "<table border=\"1\" class=\"dataframe\">\n",
       "  <thead>\n",
       "    <tr style=\"text-align: right;\">\n",
       "      <th></th>\n",
       "      <th>學校</th>\n",
       "      <th>身高</th>\n",
       "    </tr>\n",
       "  </thead>\n",
       "  <tbody>\n",
       "    <tr>\n",
       "      <th>王小雪</th>\n",
       "      <td>台灣科技大學</td>\n",
       "      <td>140</td>\n",
       "    </tr>\n",
       "    <tr>\n",
       "      <th>梁大釗</th>\n",
       "      <td>台灣科技大學</td>\n",
       "      <td>160</td>\n",
       "    </tr>\n",
       "    <tr>\n",
       "      <th>陳運運</th>\n",
       "      <td>台灣科技大學</td>\n",
       "      <td>180</td>\n",
       "    </tr>\n",
       "  </tbody>\n",
       "</table>\n",
       "</div>"
      ],
      "text/plain": [
       "         學校   身高\n",
       "王小雪  台灣科技大學  140\n",
       "梁大釗  台灣科技大學  160\n",
       "陳運運  台灣科技大學  180"
      ]
     },
     "execution_count": 43,
     "metadata": {},
     "output_type": "execute_result"
    }
   ],
   "source": [
    "df"
   ]
  },
  {
   "cell_type": "code",
   "execution_count": 7,
   "metadata": {
    "collapsed": false
   },
   "outputs": [
    {
     "name": "stdout",
     "output_type": "stream",
     "text": [
      "['✈', 729, \"ob'_'bv\", {}]\n",
      "[\"ob'_'bv\", {}]\n"
     ]
    }
   ],
   "source": [
    "list_ = ['✈', 9**3,  \"ob'_'bv\", {}]\n",
    "print(list_)\n",
    "print(list_[2:])\n"
   ]
  },
  {
   "cell_type": "code",
   "execution_count": 11,
   "metadata": {
    "collapsed": false
   },
   "outputs": [],
   "source": [
    "series = pandas.Series([1, 2, 3, 4, 5])"
   ]
  },
  {
   "cell_type": "code",
   "execution_count": 14,
   "metadata": {
    "collapsed": false
   },
   "outputs": [
    {
     "data": {
      "text/plain": [
       "4"
      ]
     },
     "execution_count": 14,
     "metadata": {},
     "output_type": "execute_result"
    }
   ],
   "source": [
    "series[3]"
   ]
  },
  {
   "cell_type": "code",
   "execution_count": 16,
   "metadata": {
    "collapsed": false
   },
   "outputs": [
    {
     "data": {
      "text/plain": [
       "2    3\n",
       "3    4\n",
       "4    5\n",
       "dtype: int64"
      ]
     },
     "execution_count": 16,
     "metadata": {},
     "output_type": "execute_result"
    }
   ],
   "source": [
    "series[2:]"
   ]
  },
  {
   "cell_type": "code",
   "execution_count": 19,
   "metadata": {
    "collapsed": false
   },
   "outputs": [
    {
     "data": {
      "text/plain": [
       "0    0\n",
       "1    1\n",
       "2    3\n",
       "3    4\n",
       "4    5\n",
       "dtype: int64"
      ]
     },
     "execution_count": 19,
     "metadata": {},
     "output_type": "execute_result"
    }
   ],
   "source": [
    "series[1] = 1\n",
    "series"
   ]
  },
  {
   "cell_type": "code",
   "execution_count": 21,
   "metadata": {
    "collapsed": false
   },
   "outputs": [],
   "source": [
    "成績 = pandas.Series([15, 20, 30, 10, 60])"
   ]
  },
  {
   "cell_type": "code",
   "execution_count": 22,
   "metadata": {
    "collapsed": false
   },
   "outputs": [
    {
     "data": {
      "text/plain": [
       "0    False\n",
       "1    False\n",
       "2    False\n",
       "3    False\n",
       "4    False\n",
       "dtype: bool"
      ]
     },
     "execution_count": 22,
     "metadata": {},
     "output_type": "execute_result"
    }
   ],
   "source": [
    "成績 > 60"
   ]
  },
  {
   "cell_type": "code",
   "execution_count": 23,
   "metadata": {
    "collapsed": false
   },
   "outputs": [
    {
     "data": {
      "text/plain": [
       "Series([], dtype: int64)"
      ]
     },
     "execution_count": 23,
     "metadata": {},
     "output_type": "execute_result"
    }
   ],
   "source": [
    "成績[成績 > 60]"
   ]
  },
  {
   "cell_type": "code",
   "execution_count": 24,
   "metadata": {
    "collapsed": true
   },
   "outputs": [],
   "source": [
    "成績 = pandas.Series([15, 20, 30, 10, 60])"
   ]
  },
  {
   "cell_type": "code",
   "execution_count": 25,
   "metadata": {
    "collapsed": false
   },
   "outputs": [
    {
     "name": "stdout",
     "output_type": "stream",
     "text": [
      "0    25\n",
      "1    30\n",
      "2    40\n",
      "3    20\n",
      "4    70\n",
      "dtype: int64\n",
      "0     4.5\n",
      "1     6.0\n",
      "2     9.0\n",
      "3     3.0\n",
      "4    18.0\n",
      "dtype: float64\n",
      "0    38.729833\n",
      "1    44.721360\n",
      "2    54.772256\n",
      "3    31.622777\n",
      "4    77.459667\n",
      "dtype: float64\n"
     ]
    }
   ],
   "source": [
    "print(成績+10)\n",
    "print(成績*0.3)\n",
    "print(成績**0.5*10)"
   ]
  },
  {
   "cell_type": "code",
   "execution_count": 34,
   "metadata": {
    "collapsed": true
   },
   "outputs": [],
   "source": [
    "pd=pandas"
   ]
  },
  {
   "cell_type": "code",
   "execution_count": 35,
   "metadata": {
    "collapsed": true
   },
   "outputs": [],
   "source": [
    "macPrice = pd.Series([31900, 7488, 112800, 999, 1549], index=['台灣', '香港', '日本', '美國', '澳洲'])"
   ]
  },
  {
   "cell_type": "code",
   "execution_count": 36,
   "metadata": {
    "collapsed": true
   },
   "outputs": [],
   "source": [
    "exchangeRate = pd.Series([32.45500, 4.08000, 23.28000, 0.25970, 1], index=['美國', '香港', '澳洲', '日本', '台灣'])"
   ]
  },
  {
   "cell_type": "code",
   "execution_count": 37,
   "metadata": {
    "collapsed": false
   },
   "outputs": [],
   "source": [
    "macPriceInTW = macPrice * exchangeRate"
   ]
  },
  {
   "cell_type": "code",
   "execution_count": 38,
   "metadata": {
    "collapsed": false
   },
   "outputs": [],
   "source": [
    "macPriceInTW['日本'] *= 1.08"
   ]
  },
  {
   "cell_type": "code",
   "execution_count": 39,
   "metadata": {
    "collapsed": false
   },
   "outputs": [
    {
     "data": {
      "text/plain": [
       "台灣    31900.0000\n",
       "日本    31637.6928\n",
       "澳洲    36060.7200\n",
       "美國    32422.5450\n",
       "香港    30551.0400\n",
       "dtype: float64"
      ]
     },
     "execution_count": 39,
     "metadata": {},
     "output_type": "execute_result"
    }
   ],
   "source": [
    "macPriceInTW"
   ]
  },
  {
   "cell_type": "code",
   "execution_count": 45,
   "metadata": {
    "collapsed": false
   },
   "outputs": [],
   "source": [
    "macIndex = pd.DataFrame({\n",
    "        '原始價格': macAirPrice,\n",
    "        '外幣：台幣': exchangeRate,\n",
    "        '台幣：外幣': 1 / exchangeRate,\n",
    "        '實際價格': macAirPriceInTWD # macAirPrice * exchangeRate\n",
    "    })"
   ]
  },
  {
   "cell_type": "code",
   "execution_count": 47,
   "metadata": {
    "collapsed": false
   },
   "outputs": [
    {
     "data": {
      "text/html": [
       "<div>\n",
       "<table border=\"1\" class=\"dataframe\">\n",
       "  <thead>\n",
       "    <tr style=\"text-align: right;\">\n",
       "      <th></th>\n",
       "      <th>原始價格</th>\n",
       "      <th>台幣：外幣</th>\n",
       "      <th>外幣：台幣</th>\n",
       "      <th>實際價格</th>\n",
       "    </tr>\n",
       "  </thead>\n",
       "  <tbody>\n",
       "    <tr>\n",
       "      <th>台灣</th>\n",
       "      <td>31900</td>\n",
       "      <td>1.000000</td>\n",
       "      <td>1.0000</td>\n",
       "      <td>31900.0000</td>\n",
       "    </tr>\n",
       "    <tr>\n",
       "      <th>日本</th>\n",
       "      <td>112800</td>\n",
       "      <td>3.850597</td>\n",
       "      <td>0.2597</td>\n",
       "      <td>31637.6928</td>\n",
       "    </tr>\n",
       "    <tr>\n",
       "      <th>澳洲</th>\n",
       "      <td>1549</td>\n",
       "      <td>0.042955</td>\n",
       "      <td>23.2800</td>\n",
       "      <td>36060.7200</td>\n",
       "    </tr>\n",
       "    <tr>\n",
       "      <th>美國</th>\n",
       "      <td>999</td>\n",
       "      <td>0.030812</td>\n",
       "      <td>32.4550</td>\n",
       "      <td>32422.5450</td>\n",
       "    </tr>\n",
       "    <tr>\n",
       "      <th>香港</th>\n",
       "      <td>7488</td>\n",
       "      <td>0.245098</td>\n",
       "      <td>4.0800</td>\n",
       "      <td>30551.0400</td>\n",
       "    </tr>\n",
       "  </tbody>\n",
       "</table>\n",
       "</div>"
      ],
      "text/plain": [
       "      原始價格     台幣：外幣    外幣：台幣        實際價格\n",
       "台灣   31900  1.000000   1.0000  31900.0000\n",
       "日本  112800  3.850597   0.2597  31637.6928\n",
       "澳洲    1549  0.042955  23.2800  36060.7200\n",
       "美國     999  0.030812  32.4550  32422.5450\n",
       "香港    7488  0.245098   4.0800  30551.0400"
      ]
     },
     "execution_count": 47,
     "metadata": {},
     "output_type": "execute_result"
    }
   ],
   "source": [
    "macIndex"
   ]
  },
  {
   "cell_type": "code",
   "execution_count": 48,
   "metadata": {
    "collapsed": true
   },
   "outputs": [],
   "source": [
    "airPollution = pd.read_csv('http://opendata.epa.gov.tw/ws/Data/AQX/?format=csv&ndctype=CSV&ndcnid=6074', encoding=\"utf-8-sig\")"
   ]
  },
  {
   "cell_type": "code",
   "execution_count": 49,
   "metadata": {
    "collapsed": false
   },
   "outputs": [
    {
     "data": {
      "text/html": [
       "<div>\n",
       "<table border=\"1\" class=\"dataframe\">\n",
       "  <thead>\n",
       "    <tr style=\"text-align: right;\">\n",
       "      <th></th>\n",
       "      <th>SiteName</th>\n",
       "      <th>County</th>\n",
       "      <th>PSI</th>\n",
       "      <th>MajorPollutant</th>\n",
       "      <th>Status</th>\n",
       "      <th>SO2</th>\n",
       "      <th>CO</th>\n",
       "      <th>O3</th>\n",
       "      <th>PM10</th>\n",
       "      <th>PM2.5</th>\n",
       "      <th>NO2</th>\n",
       "      <th>WindSpeed</th>\n",
       "      <th>WindDirec</th>\n",
       "      <th>FPMI</th>\n",
       "      <th>NOx</th>\n",
       "      <th>NO</th>\n",
       "      <th>PublishTime</th>\n",
       "    </tr>\n",
       "  </thead>\n",
       "  <tbody>\n",
       "    <tr>\n",
       "      <th>0</th>\n",
       "      <td>麥寮</td>\n",
       "      <td>雲林縣</td>\n",
       "      <td>65</td>\n",
       "      <td>懸浮微粒</td>\n",
       "      <td>普通</td>\n",
       "      <td>2.3</td>\n",
       "      <td>0.24</td>\n",
       "      <td>38</td>\n",
       "      <td>78</td>\n",
       "      <td>24</td>\n",
       "      <td>7.2</td>\n",
       "      <td>5.4</td>\n",
       "      <td>86</td>\n",
       "      <td>3</td>\n",
       "      <td>8.51</td>\n",
       "      <td>1.34</td>\n",
       "      <td>2015-12-21 14:00</td>\n",
       "    </tr>\n",
       "    <tr>\n",
       "      <th>1</th>\n",
       "      <td>關山</td>\n",
       "      <td>臺東縣</td>\n",
       "      <td>29</td>\n",
       "      <td>NaN</td>\n",
       "      <td>良好</td>\n",
       "      <td>0.7</td>\n",
       "      <td>NaN</td>\n",
       "      <td>35</td>\n",
       "      <td>10</td>\n",
       "      <td>5</td>\n",
       "      <td>0.7</td>\n",
       "      <td>1.6</td>\n",
       "      <td>224</td>\n",
       "      <td>1</td>\n",
       "      <td>1.33</td>\n",
       "      <td>0.67</td>\n",
       "      <td>2015-12-21 14:00</td>\n",
       "    </tr>\n",
       "    <tr>\n",
       "      <th>2</th>\n",
       "      <td>馬公</td>\n",
       "      <td>澎湖縣</td>\n",
       "      <td>32</td>\n",
       "      <td>NaN</td>\n",
       "      <td>良好</td>\n",
       "      <td>1.6</td>\n",
       "      <td>0.23</td>\n",
       "      <td>35</td>\n",
       "      <td>33</td>\n",
       "      <td>22</td>\n",
       "      <td>4.1</td>\n",
       "      <td>5.3</td>\n",
       "      <td>73</td>\n",
       "      <td>2</td>\n",
       "      <td>5.77</td>\n",
       "      <td>1.63</td>\n",
       "      <td>2015-12-21 14:00</td>\n",
       "    </tr>\n",
       "    <tr>\n",
       "      <th>3</th>\n",
       "      <td>金門</td>\n",
       "      <td>金門縣</td>\n",
       "      <td>66</td>\n",
       "      <td>懸浮微粒</td>\n",
       "      <td>普通</td>\n",
       "      <td>5.3</td>\n",
       "      <td>0.45</td>\n",
       "      <td>30</td>\n",
       "      <td>76</td>\n",
       "      <td>48</td>\n",
       "      <td>20.0</td>\n",
       "      <td>2.5</td>\n",
       "      <td>74</td>\n",
       "      <td>6</td>\n",
       "      <td>24.93</td>\n",
       "      <td>5.32</td>\n",
       "      <td>2015-12-21 14:00</td>\n",
       "    </tr>\n",
       "    <tr>\n",
       "      <th>4</th>\n",
       "      <td>馬祖</td>\n",
       "      <td>連江縣</td>\n",
       "      <td>0</td>\n",
       "      <td>NaN</td>\n",
       "      <td>NaN</td>\n",
       "      <td>1.9</td>\n",
       "      <td>0.32</td>\n",
       "      <td>21</td>\n",
       "      <td>NaN</td>\n",
       "      <td>NaN</td>\n",
       "      <td>9.4</td>\n",
       "      <td>4.4</td>\n",
       "      <td>53</td>\n",
       "      <td>NaN</td>\n",
       "      <td>12.04</td>\n",
       "      <td>2.63</td>\n",
       "      <td>2015-12-21 14:00</td>\n",
       "    </tr>\n",
       "  </tbody>\n",
       "</table>\n",
       "</div>"
      ],
      "text/plain": [
       "  SiteName County  PSI MajorPollutant Status  SO2    CO  O3  PM10  PM2.5  \\\n",
       "0       麥寮    雲林縣   65           懸浮微粒     普通  2.3  0.24  38    78     24   \n",
       "1       關山    臺東縣   29            NaN     良好  0.7   NaN  35    10      5   \n",
       "2       馬公    澎湖縣   32            NaN     良好  1.6  0.23  35    33     22   \n",
       "3       金門    金門縣   66           懸浮微粒     普通  5.3  0.45  30    76     48   \n",
       "4       馬祖    連江縣    0            NaN    NaN  1.9  0.32  21   NaN    NaN   \n",
       "\n",
       "    NO2  WindSpeed  WindDirec  FPMI    NOx    NO       PublishTime  \n",
       "0   7.2        5.4         86     3   8.51  1.34  2015-12-21 14:00  \n",
       "1   0.7        1.6        224     1   1.33  0.67  2015-12-21 14:00  \n",
       "2   4.1        5.3         73     2   5.77  1.63  2015-12-21 14:00  \n",
       "3  20.0        2.5         74     6  24.93  5.32  2015-12-21 14:00  \n",
       "4   9.4        4.4         53   NaN  12.04  2.63  2015-12-21 14:00  "
      ]
     },
     "execution_count": 49,
     "metadata": {},
     "output_type": "execute_result"
    }
   ],
   "source": [
    "airPollution.head()"
   ]
  },
  {
   "cell_type": "code",
   "execution_count": 50,
   "metadata": {
    "collapsed": false
   },
   "outputs": [
    {
     "data": {
      "text/plain": [
       "SiteName           object\n",
       "County             object\n",
       "PSI                 int64\n",
       "MajorPollutant     object\n",
       "Status             object\n",
       "SO2               float64\n",
       "CO                float64\n",
       "O3                float64\n",
       "PM10              float64\n",
       "PM2.5             float64\n",
       "NO2               float64\n",
       "WindSpeed         float64\n",
       "WindDirec         float64\n",
       "FPMI              float64\n",
       "NOx               float64\n",
       "NO                float64\n",
       "PublishTime        object\n",
       "dtype: object"
      ]
     },
     "execution_count": 50,
     "metadata": {},
     "output_type": "execute_result"
    }
   ],
   "source": [
    "airPollution.dtypes"
   ]
  },
  {
   "cell_type": "code",
   "execution_count": 51,
   "metadata": {
    "collapsed": false
   },
   "outputs": [
    {
     "data": {
      "text/html": [
       "<div>\n",
       "<table border=\"1\" class=\"dataframe\">\n",
       "  <thead>\n",
       "    <tr style=\"text-align: right;\">\n",
       "      <th></th>\n",
       "      <th>原始價格</th>\n",
       "      <th>台幣：外幣</th>\n",
       "      <th>外幣：台幣</th>\n",
       "      <th>實際價格</th>\n",
       "    </tr>\n",
       "  </thead>\n",
       "  <tbody>\n",
       "    <tr>\n",
       "      <th>台灣</th>\n",
       "      <td>31900</td>\n",
       "      <td>1.000000</td>\n",
       "      <td>1.0000</td>\n",
       "      <td>31900.0000</td>\n",
       "    </tr>\n",
       "    <tr>\n",
       "      <th>日本</th>\n",
       "      <td>112800</td>\n",
       "      <td>3.850597</td>\n",
       "      <td>0.2597</td>\n",
       "      <td>31637.6928</td>\n",
       "    </tr>\n",
       "    <tr>\n",
       "      <th>澳洲</th>\n",
       "      <td>1549</td>\n",
       "      <td>0.042955</td>\n",
       "      <td>23.2800</td>\n",
       "      <td>36060.7200</td>\n",
       "    </tr>\n",
       "    <tr>\n",
       "      <th>美國</th>\n",
       "      <td>999</td>\n",
       "      <td>0.030812</td>\n",
       "      <td>32.4550</td>\n",
       "      <td>32422.5450</td>\n",
       "    </tr>\n",
       "    <tr>\n",
       "      <th>香港</th>\n",
       "      <td>7488</td>\n",
       "      <td>0.245098</td>\n",
       "      <td>4.0800</td>\n",
       "      <td>30551.0400</td>\n",
       "    </tr>\n",
       "  </tbody>\n",
       "</table>\n",
       "</div>"
      ],
      "text/plain": [
       "      原始價格     台幣：外幣    外幣：台幣        實際價格\n",
       "台灣   31900  1.000000   1.0000  31900.0000\n",
       "日本  112800  3.850597   0.2597  31637.6928\n",
       "澳洲    1549  0.042955  23.2800  36060.7200\n",
       "美國     999  0.030812  32.4550  32422.5450\n",
       "香港    7488  0.245098   4.0800  30551.0400"
      ]
     },
     "execution_count": 51,
     "metadata": {},
     "output_type": "execute_result"
    }
   ],
   "source": [
    "macIndex"
   ]
  },
  {
   "cell_type": "code",
   "execution_count": 52,
   "metadata": {
    "collapsed": false
   },
   "outputs": [
    {
     "data": {
      "text/plain": [
       "台灣    1.000000\n",
       "日本    3.850597\n",
       "澳洲    0.042955\n",
       "美國    0.030812\n",
       "香港    0.245098\n",
       "Name: 台幣：外幣, dtype: float64"
      ]
     },
     "execution_count": 52,
     "metadata": {},
     "output_type": "execute_result"
    }
   ],
   "source": [
    "macIndex['台幣：外幣']"
   ]
  },
  {
   "cell_type": "code",
   "execution_count": 54,
   "metadata": {
    "collapsed": false
   },
   "outputs": [
    {
     "data": {
      "text/html": [
       "<div>\n",
       "<table border=\"1\" class=\"dataframe\">\n",
       "  <thead>\n",
       "    <tr style=\"text-align: right;\">\n",
       "      <th></th>\n",
       "      <th>台幣：外幣</th>\n",
       "      <th>原始價格</th>\n",
       "    </tr>\n",
       "  </thead>\n",
       "  <tbody>\n",
       "    <tr>\n",
       "      <th>台灣</th>\n",
       "      <td>1.000000</td>\n",
       "      <td>31900</td>\n",
       "    </tr>\n",
       "    <tr>\n",
       "      <th>日本</th>\n",
       "      <td>3.850597</td>\n",
       "      <td>112800</td>\n",
       "    </tr>\n",
       "    <tr>\n",
       "      <th>澳洲</th>\n",
       "      <td>0.042955</td>\n",
       "      <td>1549</td>\n",
       "    </tr>\n",
       "    <tr>\n",
       "      <th>美國</th>\n",
       "      <td>0.030812</td>\n",
       "      <td>999</td>\n",
       "    </tr>\n",
       "    <tr>\n",
       "      <th>香港</th>\n",
       "      <td>0.245098</td>\n",
       "      <td>7488</td>\n",
       "    </tr>\n",
       "  </tbody>\n",
       "</table>\n",
       "</div>"
      ],
      "text/plain": [
       "       台幣：外幣    原始價格\n",
       "台灣  1.000000   31900\n",
       "日本  3.850597  112800\n",
       "澳洲  0.042955    1549\n",
       "美國  0.030812     999\n",
       "香港  0.245098    7488"
      ]
     },
     "execution_count": 54,
     "metadata": {},
     "output_type": "execute_result"
    }
   ],
   "source": [
    "macIndex[['台幣：外幣', '原始價格']]"
   ]
  },
  {
   "cell_type": "code",
   "execution_count": 57,
   "metadata": {
    "collapsed": false
   },
   "outputs": [],
   "source": [
    "macIndex['人均GDP'] = pd.Series({\n",
    "    '美國': 54596.65,\n",
    "    '日本': 37389.79,\n",
    "    '台灣': 45853.74,\n",
    "    '香港': 54722.12,\n",
    "    '澳洲': 46433.30\n",
    "})"
   ]
  },
  {
   "cell_type": "code",
   "execution_count": 58,
   "metadata": {
    "collapsed": false
   },
   "outputs": [
    {
     "data": {
      "text/html": [
       "<div>\n",
       "<table border=\"1\" class=\"dataframe\">\n",
       "  <thead>\n",
       "    <tr style=\"text-align: right;\">\n",
       "      <th></th>\n",
       "      <th>原始價格</th>\n",
       "      <th>台幣：外幣</th>\n",
       "      <th>外幣：台幣</th>\n",
       "      <th>實際價格</th>\n",
       "      <th>人均GDP</th>\n",
       "    </tr>\n",
       "  </thead>\n",
       "  <tbody>\n",
       "    <tr>\n",
       "      <th>台灣</th>\n",
       "      <td>31900</td>\n",
       "      <td>1.000000</td>\n",
       "      <td>1.0000</td>\n",
       "      <td>31900.0000</td>\n",
       "      <td>45853.74</td>\n",
       "    </tr>\n",
       "    <tr>\n",
       "      <th>日本</th>\n",
       "      <td>112800</td>\n",
       "      <td>3.850597</td>\n",
       "      <td>0.2597</td>\n",
       "      <td>31637.6928</td>\n",
       "      <td>37389.79</td>\n",
       "    </tr>\n",
       "    <tr>\n",
       "      <th>澳洲</th>\n",
       "      <td>1549</td>\n",
       "      <td>0.042955</td>\n",
       "      <td>23.2800</td>\n",
       "      <td>36060.7200</td>\n",
       "      <td>46433.30</td>\n",
       "    </tr>\n",
       "    <tr>\n",
       "      <th>美國</th>\n",
       "      <td>999</td>\n",
       "      <td>0.030812</td>\n",
       "      <td>32.4550</td>\n",
       "      <td>32422.5450</td>\n",
       "      <td>54596.65</td>\n",
       "    </tr>\n",
       "    <tr>\n",
       "      <th>香港</th>\n",
       "      <td>7488</td>\n",
       "      <td>0.245098</td>\n",
       "      <td>4.0800</td>\n",
       "      <td>30551.0400</td>\n",
       "      <td>54722.12</td>\n",
       "    </tr>\n",
       "  </tbody>\n",
       "</table>\n",
       "</div>"
      ],
      "text/plain": [
       "      原始價格     台幣：外幣    外幣：台幣        實際價格     人均GDP\n",
       "台灣   31900  1.000000   1.0000  31900.0000  45853.74\n",
       "日本  112800  3.850597   0.2597  31637.6928  37389.79\n",
       "澳洲    1549  0.042955  23.2800  36060.7200  46433.30\n",
       "美國     999  0.030812  32.4550  32422.5450  54596.65\n",
       "香港    7488  0.245098   4.0800  30551.0400  54722.12"
      ]
     },
     "execution_count": 58,
     "metadata": {},
     "output_type": "execute_result"
    }
   ],
   "source": [
    "macIndex"
   ]
  },
  {
   "cell_type": "code",
   "execution_count": 59,
   "metadata": {
    "collapsed": false
   },
   "outputs": [
    {
     "data": {
      "text/plain": [
       "<matplotlib.axes._subplots.AxesSubplot at 0x69229b0>"
      ]
     },
     "execution_count": 59,
     "metadata": {},
     "output_type": "execute_result"
    },
    {
     "data": {
      "image/png": "[encoded data removed]",
      "text/plain": [
       "<matplotlib.figure.Figure at 0x6913b30>"
      ]
     },
     "metadata": {},
     "output_type": "display_data"
    }
   ],
   "source": [
    "macIndex.plot(x = '人均GDP', y='實際價格', kind='scatter')"
   ]
  },
  {
   "cell_type": "code",
   "execution_count": 60,
   "metadata": {
    "collapsed": false
   },
   "outputs": [
    {
     "data": {
      "text/html": [
       "<div>\n",
       "<table border=\"1\" class=\"dataframe\">\n",
       "  <thead>\n",
       "    <tr style=\"text-align: right;\">\n",
       "      <th></th>\n",
       "      <th>原始價格</th>\n",
       "      <th>台幣：外幣</th>\n",
       "      <th>外幣：台幣</th>\n",
       "      <th>實際價格</th>\n",
       "      <th>人均GDP</th>\n",
       "    </tr>\n",
       "  </thead>\n",
       "  <tbody>\n",
       "    <tr>\n",
       "      <th>台灣</th>\n",
       "      <td>31900</td>\n",
       "      <td>1.000000</td>\n",
       "      <td>1.0000</td>\n",
       "      <td>31900.0000</td>\n",
       "      <td>45853.74</td>\n",
       "    </tr>\n",
       "    <tr>\n",
       "      <th>日本</th>\n",
       "      <td>112800</td>\n",
       "      <td>3.850597</td>\n",
       "      <td>0.2597</td>\n",
       "      <td>31637.6928</td>\n",
       "      <td>37389.79</td>\n",
       "    </tr>\n",
       "  </tbody>\n",
       "</table>\n",
       "</div>"
      ],
      "text/plain": [
       "      原始價格     台幣：外幣   外幣：台幣        實際價格     人均GDP\n",
       "台灣   31900  1.000000  1.0000  31900.0000  45853.74\n",
       "日本  112800  3.850597  0.2597  31637.6928  37389.79"
      ]
     },
     "execution_count": 60,
     "metadata": {},
     "output_type": "execute_result"
    }
   ],
   "source": [
    "\n",
    "macIndex[0:2]"
   ]
  },
  {
   "cell_type": "code",
   "execution_count": 61,
   "metadata": {
    "collapsed": false
   },
   "outputs": [
    {
     "data": {
      "text/html": [
       "<div>\n",
       "<table border=\"1\" class=\"dataframe\">\n",
       "  <thead>\n",
       "    <tr style=\"text-align: right;\">\n",
       "      <th></th>\n",
       "      <th>原始價格</th>\n",
       "      <th>台幣：外幣</th>\n",
       "      <th>外幣：台幣</th>\n",
       "      <th>實際價格</th>\n",
       "      <th>人均GDP</th>\n",
       "    </tr>\n",
       "  </thead>\n",
       "  <tbody>\n",
       "    <tr>\n",
       "      <th>台灣</th>\n",
       "      <td>31900</td>\n",
       "      <td>1.000000</td>\n",
       "      <td>1.0000</td>\n",
       "      <td>31900.0000</td>\n",
       "      <td>45853.74</td>\n",
       "    </tr>\n",
       "    <tr>\n",
       "      <th>日本</th>\n",
       "      <td>112800</td>\n",
       "      <td>3.850597</td>\n",
       "      <td>0.2597</td>\n",
       "      <td>31637.6928</td>\n",
       "      <td>37389.79</td>\n",
       "    </tr>\n",
       "  </tbody>\n",
       "</table>\n",
       "</div>"
      ],
      "text/plain": [
       "      原始價格     台幣：外幣   外幣：台幣        實際價格     人均GDP\n",
       "台灣   31900  1.000000  1.0000  31900.0000  45853.74\n",
       "日本  112800  3.850597  0.2597  31637.6928  37389.79"
      ]
     },
     "execution_count": 61,
     "metadata": {},
     "output_type": "execute_result"
    }
   ],
   "source": [
    "macIndex.ix['台灣':'日本']"
   ]
  },
  {
   "cell_type": "code",
   "execution_count": 62,
   "metadata": {
    "collapsed": false
   },
   "outputs": [
    {
     "data": {
      "text/html": [
       "<div>\n",
       "<table border=\"1\" class=\"dataframe\">\n",
       "  <thead>\n",
       "    <tr style=\"text-align: right;\">\n",
       "      <th></th>\n",
       "      <th>原始價格</th>\n",
       "      <th>台幣：外幣</th>\n",
       "      <th>外幣：台幣</th>\n",
       "      <th>實際價格</th>\n",
       "      <th>人均GDP</th>\n",
       "    </tr>\n",
       "  </thead>\n",
       "  <tbody>\n",
       "    <tr>\n",
       "      <th>台灣</th>\n",
       "      <td>31900</td>\n",
       "      <td>1.000000</td>\n",
       "      <td>1.0000</td>\n",
       "      <td>31900.0000</td>\n",
       "      <td>45853.74</td>\n",
       "    </tr>\n",
       "    <tr>\n",
       "      <th>日本</th>\n",
       "      <td>112800</td>\n",
       "      <td>3.850597</td>\n",
       "      <td>0.2597</td>\n",
       "      <td>31637.6928</td>\n",
       "      <td>37389.79</td>\n",
       "    </tr>\n",
       "  </tbody>\n",
       "</table>\n",
       "</div>"
      ],
      "text/plain": [
       "      原始價格     台幣：外幣   外幣：台幣        實際價格     人均GDP\n",
       "台灣   31900  1.000000  1.0000  31900.0000  45853.74\n",
       "日本  112800  3.850597  0.2597  31637.6928  37389.79"
      ]
     },
     "execution_count": 62,
     "metadata": {},
     "output_type": "execute_result"
    }
   ],
   "source": [
    "macIndex.ix[['台灣', '日本']]"
   ]
  },
  {
   "cell_type": "code",
   "execution_count": 63,
   "metadata": {
    "collapsed": false
   },
   "outputs": [
    {
     "data": {
      "text/html": [
       "<div>\n",
       "<table border=\"1\" class=\"dataframe\">\n",
       "  <thead>\n",
       "    <tr style=\"text-align: right;\">\n",
       "      <th></th>\n",
       "      <th>SiteName</th>\n",
       "      <th>County</th>\n",
       "      <th>PSI</th>\n",
       "      <th>MajorPollutant</th>\n",
       "      <th>Status</th>\n",
       "      <th>SO2</th>\n",
       "      <th>CO</th>\n",
       "      <th>O3</th>\n",
       "      <th>PM10</th>\n",
       "      <th>PM2.5</th>\n",
       "      <th>NO2</th>\n",
       "      <th>WindSpeed</th>\n",
       "      <th>WindDirec</th>\n",
       "      <th>FPMI</th>\n",
       "      <th>NOx</th>\n",
       "      <th>NO</th>\n",
       "      <th>PublishTime</th>\n",
       "    </tr>\n",
       "  </thead>\n",
       "  <tbody>\n",
       "    <tr>\n",
       "      <th>0</th>\n",
       "      <td>麥寮</td>\n",
       "      <td>雲林縣</td>\n",
       "      <td>65</td>\n",
       "      <td>懸浮微粒</td>\n",
       "      <td>普通</td>\n",
       "      <td>2.3</td>\n",
       "      <td>0.24</td>\n",
       "      <td>38</td>\n",
       "      <td>78</td>\n",
       "      <td>24</td>\n",
       "      <td>7.2</td>\n",
       "      <td>5.4</td>\n",
       "      <td>86</td>\n",
       "      <td>3</td>\n",
       "      <td>8.51</td>\n",
       "      <td>1.34</td>\n",
       "      <td>2015-12-21 14:00</td>\n",
       "    </tr>\n",
       "    <tr>\n",
       "      <th>1</th>\n",
       "      <td>關山</td>\n",
       "      <td>臺東縣</td>\n",
       "      <td>29</td>\n",
       "      <td>NaN</td>\n",
       "      <td>良好</td>\n",
       "      <td>0.7</td>\n",
       "      <td>NaN</td>\n",
       "      <td>35</td>\n",
       "      <td>10</td>\n",
       "      <td>5</td>\n",
       "      <td>0.7</td>\n",
       "      <td>1.6</td>\n",
       "      <td>224</td>\n",
       "      <td>1</td>\n",
       "      <td>1.33</td>\n",
       "      <td>0.67</td>\n",
       "      <td>2015-12-21 14:00</td>\n",
       "    </tr>\n",
       "    <tr>\n",
       "      <th>2</th>\n",
       "      <td>馬公</td>\n",
       "      <td>澎湖縣</td>\n",
       "      <td>32</td>\n",
       "      <td>NaN</td>\n",
       "      <td>良好</td>\n",
       "      <td>1.6</td>\n",
       "      <td>0.23</td>\n",
       "      <td>35</td>\n",
       "      <td>33</td>\n",
       "      <td>22</td>\n",
       "      <td>4.1</td>\n",
       "      <td>5.3</td>\n",
       "      <td>73</td>\n",
       "      <td>2</td>\n",
       "      <td>5.77</td>\n",
       "      <td>1.63</td>\n",
       "      <td>2015-12-21 14:00</td>\n",
       "    </tr>\n",
       "    <tr>\n",
       "      <th>3</th>\n",
       "      <td>金門</td>\n",
       "      <td>金門縣</td>\n",
       "      <td>66</td>\n",
       "      <td>懸浮微粒</td>\n",
       "      <td>普通</td>\n",
       "      <td>5.3</td>\n",
       "      <td>0.45</td>\n",
       "      <td>30</td>\n",
       "      <td>76</td>\n",
       "      <td>48</td>\n",
       "      <td>20.0</td>\n",
       "      <td>2.5</td>\n",
       "      <td>74</td>\n",
       "      <td>6</td>\n",
       "      <td>24.93</td>\n",
       "      <td>5.32</td>\n",
       "      <td>2015-12-21 14:00</td>\n",
       "    </tr>\n",
       "    <tr>\n",
       "      <th>4</th>\n",
       "      <td>馬祖</td>\n",
       "      <td>連江縣</td>\n",
       "      <td>0</td>\n",
       "      <td>NaN</td>\n",
       "      <td>NaN</td>\n",
       "      <td>1.9</td>\n",
       "      <td>0.32</td>\n",
       "      <td>21</td>\n",
       "      <td>NaN</td>\n",
       "      <td>NaN</td>\n",
       "      <td>9.4</td>\n",
       "      <td>4.4</td>\n",
       "      <td>53</td>\n",
       "      <td>NaN</td>\n",
       "      <td>12.04</td>\n",
       "      <td>2.63</td>\n",
       "      <td>2015-12-21 14:00</td>\n",
       "    </tr>\n",
       "  </tbody>\n",
       "</table>\n",
       "</div>"
      ],
      "text/plain": [
       "  SiteName County  PSI MajorPollutant Status  SO2    CO  O3  PM10  PM2.5  \\\n",
       "0       麥寮    雲林縣   65           懸浮微粒     普通  2.3  0.24  38    78     24   \n",
       "1       關山    臺東縣   29            NaN     良好  0.7   NaN  35    10      5   \n",
       "2       馬公    澎湖縣   32            NaN     良好  1.6  0.23  35    33     22   \n",
       "3       金門    金門縣   66           懸浮微粒     普通  5.3  0.45  30    76     48   \n",
       "4       馬祖    連江縣    0            NaN    NaN  1.9  0.32  21   NaN    NaN   \n",
       "\n",
       "    NO2  WindSpeed  WindDirec  FPMI    NOx    NO       PublishTime  \n",
       "0   7.2        5.4         86     3   8.51  1.34  2015-12-21 14:00  \n",
       "1   0.7        1.6        224     1   1.33  0.67  2015-12-21 14:00  \n",
       "2   4.1        5.3         73     2   5.77  1.63  2015-12-21 14:00  \n",
       "3  20.0        2.5         74     6  24.93  5.32  2015-12-21 14:00  \n",
       "4   9.4        4.4         53   NaN  12.04  2.63  2015-12-21 14:00  "
      ]
     },
     "execution_count": 63,
     "metadata": {},
     "output_type": "execute_result"
    }
   ],
   "source": [
    "\n",
    "airPollution.head()"
   ]
  },
  {
   "cell_type": "code",
   "execution_count": 64,
   "metadata": {
    "collapsed": false
   },
   "outputs": [
    {
     "data": {
      "text/html": [
       "<div>\n",
       "<table border=\"1\" class=\"dataframe\">\n",
       "  <thead>\n",
       "    <tr style=\"text-align: right;\">\n",
       "      <th></th>\n",
       "      <th>SiteName</th>\n",
       "      <th>County</th>\n",
       "      <th>PSI</th>\n",
       "      <th>MajorPollutant</th>\n",
       "      <th>Status</th>\n",
       "      <th>SO2</th>\n",
       "      <th>CO</th>\n",
       "      <th>O3</th>\n",
       "      <th>PM10</th>\n",
       "      <th>PM2.5</th>\n",
       "      <th>NO2</th>\n",
       "      <th>WindSpeed</th>\n",
       "      <th>WindDirec</th>\n",
       "      <th>FPMI</th>\n",
       "      <th>NOx</th>\n",
       "      <th>NO</th>\n",
       "      <th>PublishTime</th>\n",
       "    </tr>\n",
       "  </thead>\n",
       "  <tbody>\n",
       "    <tr>\n",
       "      <th>3</th>\n",
       "      <td>金門</td>\n",
       "      <td>金門縣</td>\n",
       "      <td>66</td>\n",
       "      <td>懸浮微粒</td>\n",
       "      <td>普通</td>\n",
       "      <td>5.3</td>\n",
       "      <td>0.45</td>\n",
       "      <td>30</td>\n",
       "      <td>76</td>\n",
       "      <td>48</td>\n",
       "      <td>20</td>\n",
       "      <td>2.5</td>\n",
       "      <td>74</td>\n",
       "      <td>6</td>\n",
       "      <td>24.93</td>\n",
       "      <td>5.32</td>\n",
       "      <td>2015-12-21 14:00</td>\n",
       "    </tr>\n",
       "  </tbody>\n",
       "</table>\n",
       "</div>"
      ],
      "text/plain": [
       "  SiteName County  PSI MajorPollutant Status  SO2    CO  O3  PM10  PM2.5  NO2  \\\n",
       "3       金門    金門縣   66           懸浮微粒     普通  5.3  0.45  30    76     48   20   \n",
       "\n",
       "   WindSpeed  WindDirec  FPMI    NOx    NO       PublishTime  \n",
       "3        2.5         74     6  24.93  5.32  2015-12-21 14:00  "
      ]
     },
     "execution_count": 64,
     "metadata": {},
     "output_type": "execute_result"
    }
   ],
   "source": [
    "airPollution[airPollution['SiteName'] == '金門']"
   ]
  },
  {
   "cell_type": "code",
   "execution_count": 65,
   "metadata": {
    "collapsed": false
   },
   "outputs": [
    {
     "data": {
      "text/html": [
       "<div>\n",
       "<table border=\"1\" class=\"dataframe\">\n",
       "  <thead>\n",
       "    <tr style=\"text-align: right;\">\n",
       "      <th></th>\n",
       "      <th>SiteName</th>\n",
       "      <th>County</th>\n",
       "      <th>PSI</th>\n",
       "      <th>MajorPollutant</th>\n",
       "      <th>Status</th>\n",
       "      <th>SO2</th>\n",
       "      <th>CO</th>\n",
       "      <th>O3</th>\n",
       "      <th>PM10</th>\n",
       "      <th>PM2.5</th>\n",
       "      <th>NO2</th>\n",
       "      <th>WindSpeed</th>\n",
       "      <th>WindDirec</th>\n",
       "      <th>FPMI</th>\n",
       "      <th>NOx</th>\n",
       "      <th>NO</th>\n",
       "      <th>PublishTime</th>\n",
       "    </tr>\n",
       "  </thead>\n",
       "  <tbody>\n",
       "    <tr>\n",
       "      <th>3</th>\n",
       "      <td>金門</td>\n",
       "      <td>金門縣</td>\n",
       "      <td>66</td>\n",
       "      <td>懸浮微粒</td>\n",
       "      <td>普通</td>\n",
       "      <td>5.3</td>\n",
       "      <td>0.45</td>\n",
       "      <td>30.0</td>\n",
       "      <td>76</td>\n",
       "      <td>48</td>\n",
       "      <td>20</td>\n",
       "      <td>2.5</td>\n",
       "      <td>74.0</td>\n",
       "      <td>6</td>\n",
       "      <td>24.93</td>\n",
       "      <td>5.32</td>\n",
       "      <td>2015-12-21 14:00</td>\n",
       "    </tr>\n",
       "    <tr>\n",
       "      <th>7</th>\n",
       "      <td>永和</td>\n",
       "      <td>新北市</td>\n",
       "      <td>57</td>\n",
       "      <td>懸浮微粒</td>\n",
       "      <td>普通</td>\n",
       "      <td>14.0</td>\n",
       "      <td>0.76</td>\n",
       "      <td>9.7</td>\n",
       "      <td>NaN</td>\n",
       "      <td>NaN</td>\n",
       "      <td>34</td>\n",
       "      <td>2.2</td>\n",
       "      <td>89.0</td>\n",
       "      <td>4</td>\n",
       "      <td>65.39</td>\n",
       "      <td>31.13</td>\n",
       "      <td>2015-12-21 14:00</td>\n",
       "    </tr>\n",
       "    <tr>\n",
       "      <th>8</th>\n",
       "      <td>竹山</td>\n",
       "      <td>南投縣</td>\n",
       "      <td>68</td>\n",
       "      <td>懸浮微粒</td>\n",
       "      <td>普通</td>\n",
       "      <td>3.4</td>\n",
       "      <td>0.49</td>\n",
       "      <td>52.0</td>\n",
       "      <td>87</td>\n",
       "      <td>63</td>\n",
       "      <td>18</td>\n",
       "      <td>1.4</td>\n",
       "      <td>7.8</td>\n",
       "      <td>8</td>\n",
       "      <td>20.01</td>\n",
       "      <td>1.71</td>\n",
       "      <td>2015-12-21 14:00</td>\n",
       "    </tr>\n",
       "    <tr>\n",
       "      <th>9</th>\n",
       "      <td>中壢</td>\n",
       "      <td>桃園市</td>\n",
       "      <td>60</td>\n",
       "      <td>懸浮微粒</td>\n",
       "      <td>普通</td>\n",
       "      <td>5.2</td>\n",
       "      <td>NaN</td>\n",
       "      <td>15.0</td>\n",
       "      <td>76</td>\n",
       "      <td>23</td>\n",
       "      <td>34</td>\n",
       "      <td>1.1</td>\n",
       "      <td>196.0</td>\n",
       "      <td>3</td>\n",
       "      <td>52.13</td>\n",
       "      <td>18.10</td>\n",
       "      <td>2015-12-21 14:00</td>\n",
       "    </tr>\n",
       "    <tr>\n",
       "      <th>10</th>\n",
       "      <td>三重</td>\n",
       "      <td>新北市</td>\n",
       "      <td>64</td>\n",
       "      <td>懸浮微粒</td>\n",
       "      <td>普通</td>\n",
       "      <td>10.0</td>\n",
       "      <td>1.89</td>\n",
       "      <td>NaN</td>\n",
       "      <td>75</td>\n",
       "      <td>24</td>\n",
       "      <td>38</td>\n",
       "      <td>NaN</td>\n",
       "      <td>NaN</td>\n",
       "      <td>3</td>\n",
       "      <td>113.95</td>\n",
       "      <td>76.39</td>\n",
       "      <td>2015-12-21 14:00</td>\n",
       "    </tr>\n",
       "  </tbody>\n",
       "</table>\n",
       "</div>"
      ],
      "text/plain": [
       "   SiteName County  PSI MajorPollutant Status   SO2    CO    O3  PM10  PM2.5  \\\n",
       "3        金門    金門縣   66           懸浮微粒     普通   5.3  0.45  30.0    76     48   \n",
       "7        永和    新北市   57           懸浮微粒     普通  14.0  0.76   9.7   NaN    NaN   \n",
       "8        竹山    南投縣   68           懸浮微粒     普通   3.4  0.49  52.0    87     63   \n",
       "9        中壢    桃園市   60           懸浮微粒     普通   5.2   NaN  15.0    76     23   \n",
       "10       三重    新北市   64           懸浮微粒     普通  10.0  1.89   NaN    75     24   \n",
       "\n",
       "    NO2  WindSpeed  WindDirec  FPMI     NOx     NO       PublishTime  \n",
       "3    20        2.5       74.0     6   24.93   5.32  2015-12-21 14:00  \n",
       "7    34        2.2       89.0     4   65.39  31.13  2015-12-21 14:00  \n",
       "8    18        1.4        7.8     8   20.01   1.71  2015-12-21 14:00  \n",
       "9    34        1.1      196.0     3   52.13  18.10  2015-12-21 14:00  \n",
       "10   38        NaN        NaN     3  113.95  76.39  2015-12-21 14:00  "
      ]
     },
     "execution_count": 65,
     "metadata": {},
     "output_type": "execute_result"
    }
   ],
   "source": [
    "airPollution[(airPollution['SO2'] > 5) | (airPollution['PM2.5'] > 50)].head()"
   ]
  },
  {
   "cell_type": "code",
   "execution_count": 66,
   "metadata": {
    "collapsed": false
   },
   "outputs": [
    {
     "data": {
      "text/html": [
       "<div>\n",
       "<table border=\"1\" class=\"dataframe\">\n",
       "  <thead>\n",
       "    <tr style=\"text-align: right;\">\n",
       "      <th></th>\n",
       "      <th>SiteName</th>\n",
       "      <th>County</th>\n",
       "      <th>PSI</th>\n",
       "      <th>MajorPollutant</th>\n",
       "      <th>Status</th>\n",
       "      <th>SO2</th>\n",
       "      <th>CO</th>\n",
       "      <th>O3</th>\n",
       "      <th>PM10</th>\n",
       "      <th>PM2.5</th>\n",
       "      <th>NO2</th>\n",
       "      <th>WindSpeed</th>\n",
       "      <th>WindDirec</th>\n",
       "      <th>FPMI</th>\n",
       "      <th>NOx</th>\n",
       "      <th>NO</th>\n",
       "      <th>PublishTime</th>\n",
       "    </tr>\n",
       "  </thead>\n",
       "  <tbody>\n",
       "    <tr>\n",
       "      <th>0</th>\n",
       "      <td>麥寮</td>\n",
       "      <td>雲林縣</td>\n",
       "      <td>65</td>\n",
       "      <td>懸浮微粒</td>\n",
       "      <td>普通</td>\n",
       "      <td>2.3</td>\n",
       "      <td>0.24</td>\n",
       "      <td>38</td>\n",
       "      <td>78</td>\n",
       "      <td>24</td>\n",
       "      <td>7.2</td>\n",
       "      <td>5.4</td>\n",
       "      <td>86</td>\n",
       "      <td>3</td>\n",
       "      <td>8.51</td>\n",
       "      <td>1.34</td>\n",
       "      <td>2015-12-21 14:00</td>\n",
       "    </tr>\n",
       "    <tr>\n",
       "      <th>1</th>\n",
       "      <td>關山</td>\n",
       "      <td>臺東縣</td>\n",
       "      <td>29</td>\n",
       "      <td>NaN</td>\n",
       "      <td>良好</td>\n",
       "      <td>0.7</td>\n",
       "      <td>NaN</td>\n",
       "      <td>35</td>\n",
       "      <td>10</td>\n",
       "      <td>5</td>\n",
       "      <td>0.7</td>\n",
       "      <td>1.6</td>\n",
       "      <td>224</td>\n",
       "      <td>1</td>\n",
       "      <td>1.33</td>\n",
       "      <td>0.67</td>\n",
       "      <td>2015-12-21 14:00</td>\n",
       "    </tr>\n",
       "    <tr>\n",
       "      <th>2</th>\n",
       "      <td>馬公</td>\n",
       "      <td>澎湖縣</td>\n",
       "      <td>32</td>\n",
       "      <td>NaN</td>\n",
       "      <td>良好</td>\n",
       "      <td>1.6</td>\n",
       "      <td>0.23</td>\n",
       "      <td>35</td>\n",
       "      <td>33</td>\n",
       "      <td>22</td>\n",
       "      <td>4.1</td>\n",
       "      <td>5.3</td>\n",
       "      <td>73</td>\n",
       "      <td>2</td>\n",
       "      <td>5.77</td>\n",
       "      <td>1.63</td>\n",
       "      <td>2015-12-21 14:00</td>\n",
       "    </tr>\n",
       "    <tr>\n",
       "      <th>3</th>\n",
       "      <td>金門</td>\n",
       "      <td>金門縣</td>\n",
       "      <td>66</td>\n",
       "      <td>懸浮微粒</td>\n",
       "      <td>普通</td>\n",
       "      <td>5.3</td>\n",
       "      <td>0.45</td>\n",
       "      <td>30</td>\n",
       "      <td>76</td>\n",
       "      <td>48</td>\n",
       "      <td>20.0</td>\n",
       "      <td>2.5</td>\n",
       "      <td>74</td>\n",
       "      <td>6</td>\n",
       "      <td>24.93</td>\n",
       "      <td>5.32</td>\n",
       "      <td>2015-12-21 14:00</td>\n",
       "    </tr>\n",
       "    <tr>\n",
       "      <th>4</th>\n",
       "      <td>馬祖</td>\n",
       "      <td>連江縣</td>\n",
       "      <td>0</td>\n",
       "      <td>NaN</td>\n",
       "      <td>NaN</td>\n",
       "      <td>1.9</td>\n",
       "      <td>0.32</td>\n",
       "      <td>21</td>\n",
       "      <td>NaN</td>\n",
       "      <td>NaN</td>\n",
       "      <td>9.4</td>\n",
       "      <td>4.4</td>\n",
       "      <td>53</td>\n",
       "      <td>NaN</td>\n",
       "      <td>12.04</td>\n",
       "      <td>2.63</td>\n",
       "      <td>2015-12-21 14:00</td>\n",
       "    </tr>\n",
       "  </tbody>\n",
       "</table>\n",
       "</div>"
      ],
      "text/plain": [
       "  SiteName County  PSI MajorPollutant Status  SO2    CO  O3  PM10  PM2.5  \\\n",
       "0       麥寮    雲林縣   65           懸浮微粒     普通  2.3  0.24  38    78     24   \n",
       "1       關山    臺東縣   29            NaN     良好  0.7   NaN  35    10      5   \n",
       "2       馬公    澎湖縣   32            NaN     良好  1.6  0.23  35    33     22   \n",
       "3       金門    金門縣   66           懸浮微粒     普通  5.3  0.45  30    76     48   \n",
       "4       馬祖    連江縣    0            NaN    NaN  1.9  0.32  21   NaN    NaN   \n",
       "\n",
       "    NO2  WindSpeed  WindDirec  FPMI    NOx    NO       PublishTime  \n",
       "0   7.2        5.4         86     3   8.51  1.34  2015-12-21 14:00  \n",
       "1   0.7        1.6        224     1   1.33  0.67  2015-12-21 14:00  \n",
       "2   4.1        5.3         73     2   5.77  1.63  2015-12-21 14:00  \n",
       "3  20.0        2.5         74     6  24.93  5.32  2015-12-21 14:00  \n",
       "4   9.4        4.4         53   NaN  12.04  2.63  2015-12-21 14:00  "
      ]
     },
     "execution_count": 66,
     "metadata": {},
     "output_type": "execute_result"
    }
   ],
   "source": [
    "airPollution.head()"
   ]
  },
  {
   "cell_type": "code",
   "execution_count": 69,
   "metadata": {
    "collapsed": false
   },
   "outputs": [],
   "source": [
    "airPollution = airPollution.set_index('SiteName')\n"
   ]
  },
  {
   "cell_type": "code",
   "execution_count": 70,
   "metadata": {
    "collapsed": false
   },
   "outputs": [
    {
     "data": {
      "text/html": [
       "<div>\n",
       "<table border=\"1\" class=\"dataframe\">\n",
       "  <thead>\n",
       "    <tr style=\"text-align: right;\">\n",
       "      <th></th>\n",
       "      <th>County</th>\n",
       "      <th>PSI</th>\n",
       "      <th>MajorPollutant</th>\n",
       "      <th>Status</th>\n",
       "      <th>SO2</th>\n",
       "      <th>CO</th>\n",
       "      <th>O3</th>\n",
       "      <th>PM10</th>\n",
       "      <th>PM2.5</th>\n",
       "      <th>NO2</th>\n",
       "      <th>WindSpeed</th>\n",
       "      <th>WindDirec</th>\n",
       "      <th>FPMI</th>\n",
       "      <th>NOx</th>\n",
       "      <th>NO</th>\n",
       "      <th>PublishTime</th>\n",
       "    </tr>\n",
       "    <tr>\n",
       "      <th>SiteName</th>\n",
       "      <th></th>\n",
       "      <th></th>\n",
       "      <th></th>\n",
       "      <th></th>\n",
       "      <th></th>\n",
       "      <th></th>\n",
       "      <th></th>\n",
       "      <th></th>\n",
       "      <th></th>\n",
       "      <th></th>\n",
       "      <th></th>\n",
       "      <th></th>\n",
       "      <th></th>\n",
       "      <th></th>\n",
       "      <th></th>\n",
       "      <th></th>\n",
       "    </tr>\n",
       "  </thead>\n",
       "  <tbody>\n",
       "    <tr>\n",
       "      <th>麥寮</th>\n",
       "      <td>雲林縣</td>\n",
       "      <td>65</td>\n",
       "      <td>懸浮微粒</td>\n",
       "      <td>普通</td>\n",
       "      <td>2.3</td>\n",
       "      <td>0.24</td>\n",
       "      <td>38</td>\n",
       "      <td>78</td>\n",
       "      <td>24</td>\n",
       "      <td>7.2</td>\n",
       "      <td>5.4</td>\n",
       "      <td>86</td>\n",
       "      <td>3</td>\n",
       "      <td>8.51</td>\n",
       "      <td>1.34</td>\n",
       "      <td>2015-12-21 14:00</td>\n",
       "    </tr>\n",
       "    <tr>\n",
       "      <th>關山</th>\n",
       "      <td>臺東縣</td>\n",
       "      <td>29</td>\n",
       "      <td>NaN</td>\n",
       "      <td>良好</td>\n",
       "      <td>0.7</td>\n",
       "      <td>NaN</td>\n",
       "      <td>35</td>\n",
       "      <td>10</td>\n",
       "      <td>5</td>\n",
       "      <td>0.7</td>\n",
       "      <td>1.6</td>\n",
       "      <td>224</td>\n",
       "      <td>1</td>\n",
       "      <td>1.33</td>\n",
       "      <td>0.67</td>\n",
       "      <td>2015-12-21 14:00</td>\n",
       "    </tr>\n",
       "    <tr>\n",
       "      <th>馬公</th>\n",
       "      <td>澎湖縣</td>\n",
       "      <td>32</td>\n",
       "      <td>NaN</td>\n",
       "      <td>良好</td>\n",
       "      <td>1.6</td>\n",
       "      <td>0.23</td>\n",
       "      <td>35</td>\n",
       "      <td>33</td>\n",
       "      <td>22</td>\n",
       "      <td>4.1</td>\n",
       "      <td>5.3</td>\n",
       "      <td>73</td>\n",
       "      <td>2</td>\n",
       "      <td>5.77</td>\n",
       "      <td>1.63</td>\n",
       "      <td>2015-12-21 14:00</td>\n",
       "    </tr>\n",
       "    <tr>\n",
       "      <th>金門</th>\n",
       "      <td>金門縣</td>\n",
       "      <td>66</td>\n",
       "      <td>懸浮微粒</td>\n",
       "      <td>普通</td>\n",
       "      <td>5.3</td>\n",
       "      <td>0.45</td>\n",
       "      <td>30</td>\n",
       "      <td>76</td>\n",
       "      <td>48</td>\n",
       "      <td>20.0</td>\n",
       "      <td>2.5</td>\n",
       "      <td>74</td>\n",
       "      <td>6</td>\n",
       "      <td>24.93</td>\n",
       "      <td>5.32</td>\n",
       "      <td>2015-12-21 14:00</td>\n",
       "    </tr>\n",
       "    <tr>\n",
       "      <th>馬祖</th>\n",
       "      <td>連江縣</td>\n",
       "      <td>0</td>\n",
       "      <td>NaN</td>\n",
       "      <td>NaN</td>\n",
       "      <td>1.9</td>\n",
       "      <td>0.32</td>\n",
       "      <td>21</td>\n",
       "      <td>NaN</td>\n",
       "      <td>NaN</td>\n",
       "      <td>9.4</td>\n",
       "      <td>4.4</td>\n",
       "      <td>53</td>\n",
       "      <td>NaN</td>\n",
       "      <td>12.04</td>\n",
       "      <td>2.63</td>\n",
       "      <td>2015-12-21 14:00</td>\n",
       "    </tr>\n",
       "  </tbody>\n",
       "</table>\n",
       "</div>"
      ],
      "text/plain": [
       "         County  PSI MajorPollutant Status  SO2    CO  O3  PM10  PM2.5   NO2  \\\n",
       "SiteName                                                                       \n",
       "麥寮          雲林縣   65           懸浮微粒     普通  2.3  0.24  38    78     24   7.2   \n",
       "關山          臺東縣   29            NaN     良好  0.7   NaN  35    10      5   0.7   \n",
       "馬公          澎湖縣   32            NaN     良好  1.6  0.23  35    33     22   4.1   \n",
       "金門          金門縣   66           懸浮微粒     普通  5.3  0.45  30    76     48  20.0   \n",
       "馬祖          連江縣    0            NaN    NaN  1.9  0.32  21   NaN    NaN   9.4   \n",
       "\n",
       "          WindSpeed  WindDirec  FPMI    NOx    NO       PublishTime  \n",
       "SiteName                                                             \n",
       "麥寮              5.4         86     3   8.51  1.34  2015-12-21 14:00  \n",
       "關山              1.6        224     1   1.33  0.67  2015-12-21 14:00  \n",
       "馬公              5.3         73     2   5.77  1.63  2015-12-21 14:00  \n",
       "金門              2.5         74     6  24.93  5.32  2015-12-21 14:00  \n",
       "馬祖              4.4         53   NaN  12.04  2.63  2015-12-21 14:00  "
      ]
     },
     "execution_count": 70,
     "metadata": {},
     "output_type": "execute_result"
    }
   ],
   "source": [
    "airPollution.head()"
   ]
  },
  {
   "cell_type": "code",
   "execution_count": 71,
   "metadata": {
    "collapsed": false
   },
   "outputs": [
    {
     "data": {
      "text/plain": [
       "County                         金門縣\n",
       "PSI                             66\n",
       "MajorPollutant                懸浮微粒\n",
       "Status                          普通\n",
       "SO2                            5.3\n",
       "CO                            0.45\n",
       "O3                              30\n",
       "PM10                            76\n",
       "PM2.5                           48\n",
       "NO2                             20\n",
       "WindSpeed                      2.5\n",
       "WindDirec                       74\n",
       "FPMI                             6\n",
       "NOx                          24.93\n",
       "NO                            5.32\n",
       "PublishTime       2015-12-21 14:00\n",
       "Name: 金門, dtype: object"
      ]
     },
     "execution_count": 71,
     "metadata": {},
     "output_type": "execute_result"
    }
   ],
   "source": [
    "airPollution.ix['金門']"
   ]
  },
  {
   "cell_type": "code",
   "execution_count": null,
   "metadata": {
    "collapsed": true
   },
   "outputs": [],
   "source": []
  }
 ],
 "metadata": {
  "kernelspec": {
   "display_name": "Python 3",
   "language": "python",
   "name": "python3"
  },
  "language_info": {
   "codemirror_mode": {
    "name": "ipython",
    "version": 3
   },
   "file_extension": ".py",
   "mimetype": "text/x-python",
   "name": "python",
   "nbconvert_exporter": "python",
   "pygments_lexer": "ipython3",
   "version": "3.4.3"
  }
 },
 "nbformat": 4,
 "nbformat_minor": 0
}
